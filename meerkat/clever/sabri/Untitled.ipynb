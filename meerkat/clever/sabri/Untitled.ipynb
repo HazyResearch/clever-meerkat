{
 "cells": [
  {
   "cell_type": "code",
   "execution_count": 1,
   "id": "8f920127",
   "metadata": {},
   "outputs": [],
   "source": [
    "%load_ext autoreload\n",
    "%autoreload 2"
   ]
  },
  {
   "cell_type": "code",
   "execution_count": 2,
   "id": "50514ad4",
   "metadata": {},
   "outputs": [],
   "source": [
    "from meerkat.clever.embed import embed"
   ]
  },
  {
   "cell_type": "code",
   "execution_count": 3,
   "id": "68b1d650",
   "metadata": {},
   "outputs": [],
   "source": [
    "import dcbench"
   ]
  },
  {
   "cell_type": "code",
   "execution_count": 4,
   "id": "1feac7a2",
   "metadata": {},
   "outputs": [],
   "source": [
    "sd = dcbench.tasks[\"slice_discovery\"]"
   ]
  },
  {
   "cell_type": "code",
   "execution_count": 5,
   "id": "84e59d3e",
   "metadata": {},
   "outputs": [
    {
     "data": {
      "text/html": [
       "<div>\n",
       "<style scoped>\n",
       "    .dataframe tbody tr th:only-of-type {\n",
       "        vertical-align: middle;\n",
       "    }\n",
       "\n",
       "    .dataframe tbody tr th {\n",
       "        vertical-align: top;\n",
       "    }\n",
       "\n",
       "    .dataframe thead th {\n",
       "        text-align: right;\n",
       "    }\n",
       "</style>\n",
       "<table border=\"1\" class=\"dataframe\">\n",
       "  <thead>\n",
       "    <tr style=\"text-align: right;\">\n",
       "      <th></th>\n",
       "      <th>alpha</th>\n",
       "      <th>dataset</th>\n",
       "      <th>n_pred_slices</th>\n",
       "      <th>slice_category</th>\n",
       "      <th>slice_names</th>\n",
       "      <th>target_name</th>\n",
       "    </tr>\n",
       "  </thead>\n",
       "  <tbody>\n",
       "    <tr>\n",
       "      <th>p_72776</th>\n",
       "      <td>0.2000</td>\n",
       "      <td>celeba</td>\n",
       "      <td>5</td>\n",
       "      <td>correlation</td>\n",
       "      <td>[wearing_lipstick=0_young=1, wearing_lipstick=...</td>\n",
       "      <td>wearing_lipstick</td>\n",
       "    </tr>\n",
       "    <tr>\n",
       "      <th>p_72793</th>\n",
       "      <td>0.6000</td>\n",
       "      <td>celeba</td>\n",
       "      <td>5</td>\n",
       "      <td>correlation</td>\n",
       "      <td>[wearing_necklace=0_black_hair=1, wearing_neck...</td>\n",
       "      <td>wearing_necklace</td>\n",
       "    </tr>\n",
       "    <tr>\n",
       "      <th>p_72800</th>\n",
       "      <td>0.2000</td>\n",
       "      <td>celeba</td>\n",
       "      <td>5</td>\n",
       "      <td>correlation</td>\n",
       "      <td>[wearing_necklace=0_brown_hair=1, wearing_neck...</td>\n",
       "      <td>wearing_necklace</td>\n",
       "    </tr>\n",
       "    <tr>\n",
       "      <th>p_72799</th>\n",
       "      <td>0.6000</td>\n",
       "      <td>celeba</td>\n",
       "      <td>5</td>\n",
       "      <td>correlation</td>\n",
       "      <td>[wearing_necklace=0_smiling=1, wearing_necklac...</td>\n",
       "      <td>wearing_necklace</td>\n",
       "    </tr>\n",
       "    <tr>\n",
       "      <th>p_72802</th>\n",
       "      <td>0.2000</td>\n",
       "      <td>celeba</td>\n",
       "      <td>5</td>\n",
       "      <td>correlation</td>\n",
       "      <td>[wearing_necklace=0_wearing_lipstick=1, wearin...</td>\n",
       "      <td>wearing_necklace</td>\n",
       "    </tr>\n",
       "    <tr>\n",
       "      <th>...</th>\n",
       "      <td>...</td>\n",
       "      <td>...</td>\n",
       "      <td>...</td>\n",
       "      <td>...</td>\n",
       "      <td>...</td>\n",
       "      <td>...</td>\n",
       "    </tr>\n",
       "    <tr>\n",
       "      <th>p_122649</th>\n",
       "      <td>0.2000</td>\n",
       "      <td>imagenet</td>\n",
       "      <td>5</td>\n",
       "      <td>noisy_label</td>\n",
       "      <td>[watch.n.01]</td>\n",
       "      <td>timepiece.n.01</td>\n",
       "    </tr>\n",
       "    <tr>\n",
       "      <th>p_117333</th>\n",
       "      <td>0.0500</td>\n",
       "      <td>imagenet</td>\n",
       "      <td>5</td>\n",
       "      <td>rare</td>\n",
       "      <td>[cart.n.01]</td>\n",
       "      <td>vehicle.n.01</td>\n",
       "    </tr>\n",
       "    <tr>\n",
       "      <th>p_118951</th>\n",
       "      <td>0.0500</td>\n",
       "      <td>imagenet</td>\n",
       "      <td>5</td>\n",
       "      <td>rare</td>\n",
       "      <td>[punch.n.02]</td>\n",
       "      <td>food.n.01</td>\n",
       "    </tr>\n",
       "    <tr>\n",
       "      <th>p_120032</th>\n",
       "      <td>0.0500</td>\n",
       "      <td>imagenet</td>\n",
       "      <td>5</td>\n",
       "      <td>rare</td>\n",
       "      <td>[mushroom.n.05]</td>\n",
       "      <td>vegetable.n.01</td>\n",
       "    </tr>\n",
       "    <tr>\n",
       "      <th>p_118660</th>\n",
       "      <td>0.0171</td>\n",
       "      <td>imagenet</td>\n",
       "      <td>5</td>\n",
       "      <td>rare</td>\n",
       "      <td>[menu.n.02]</td>\n",
       "      <td>food.n.01</td>\n",
       "    </tr>\n",
       "  </tbody>\n",
       "</table>\n",
       "<p>886 rows × 6 columns</p>\n",
       "</div>"
      ],
      "text/plain": [
       "           alpha   dataset  n_pred_slices slice_category  \\\n",
       "p_72776   0.2000    celeba              5    correlation   \n",
       "p_72793   0.6000    celeba              5    correlation   \n",
       "p_72800   0.2000    celeba              5    correlation   \n",
       "p_72799   0.6000    celeba              5    correlation   \n",
       "p_72802   0.2000    celeba              5    correlation   \n",
       "...          ...       ...            ...            ...   \n",
       "p_122649  0.2000  imagenet              5    noisy_label   \n",
       "p_117333  0.0500  imagenet              5           rare   \n",
       "p_118951  0.0500  imagenet              5           rare   \n",
       "p_120032  0.0500  imagenet              5           rare   \n",
       "p_118660  0.0171  imagenet              5           rare   \n",
       "\n",
       "                                                slice_names       target_name  \n",
       "p_72776   [wearing_lipstick=0_young=1, wearing_lipstick=...  wearing_lipstick  \n",
       "p_72793   [wearing_necklace=0_black_hair=1, wearing_neck...  wearing_necklace  \n",
       "p_72800   [wearing_necklace=0_brown_hair=1, wearing_neck...  wearing_necklace  \n",
       "p_72799   [wearing_necklace=0_smiling=1, wearing_necklac...  wearing_necklace  \n",
       "p_72802   [wearing_necklace=0_wearing_lipstick=1, wearin...  wearing_necklace  \n",
       "...                                                     ...               ...  \n",
       "p_122649                                       [watch.n.01]    timepiece.n.01  \n",
       "p_117333                                        [cart.n.01]      vehicle.n.01  \n",
       "p_118951                                       [punch.n.02]         food.n.01  \n",
       "p_120032                                    [mushroom.n.05]    vegetable.n.01  \n",
       "p_118660                                        [menu.n.02]         food.n.01  \n",
       "\n",
       "[886 rows x 6 columns]"
      ]
     },
     "execution_count": 5,
     "metadata": {},
     "output_type": "execute_result"
    }
   ],
   "source": [
    "sd.problems"
   ]
  },
  {
   "cell_type": "code",
   "execution_count": 6,
   "id": "df06b56e",
   "metadata": {},
   "outputs": [],
   "source": [
    "problem = sd.problems[\"p_72793\"]"
   ]
  },
  {
   "cell_type": "code",
   "execution_count": 7,
   "id": "8c349097",
   "metadata": {},
   "outputs": [
    {
     "name": "stderr",
     "output_type": "stream",
     "text": [
      "/home/users/eyuboglu/code/clever-meerkat/meerkat/ml/__init__.py:7: ExperimentalWarning: The `meerkat.ml` module is experimental and has limited test coverage. Proceed with caution.\n",
      "  warnings.warn(\n",
      "/home/users/eyuboglu/code/clever-meerkat/meerkat/ops/merge.py:69: FutureWarning: Passing a set as an indexer is deprecated and will raise in a future version. Use a list instead.\n",
      "  merged_df = merged_df[set(left_on) & set(right_on)]\n"
     ]
    }
   ],
   "source": [
    "dp = problem[\"val_predictions\"][[\"probs\", \"id\", \"target\"]].merge(problem[\"base_dataset\"], on=\"id\")"
   ]
  },
  {
   "cell_type": "code",
   "execution_count": 11,
   "id": "8dab83fa",
   "metadata": {},
   "outputs": [
    {
     "data": {
      "application/vnd.jupyter.widget-view+json": {
       "model_id": "7646a8c6bcb64e1b811dd0520f26be44",
       "version_major": 2,
       "version_minor": 0
      },
      "text/plain": [
       "  0%|          | 0/23 [00:00<?, ?it/s]"
      ]
     },
     "metadata": {},
     "output_type": "display_data"
    }
   ],
   "source": [
    "dp = embed(\n",
    "    data=dp,\n",
    "    input_col=\"image\",\n",
    "    encoder=\"clip\",\n",
    "    device=0\n",
    ")"
   ]
  },
  {
   "cell_type": "code",
   "execution_count": 20,
   "id": "3dfb9b91",
   "metadata": {},
   "outputs": [
    {
     "data": {
      "text/plain": [
       "array([[-0.00958 ,  0.4292  ,  0.01352 , ...,  0.724   ,  0.386   ,\n",
       "         0.1445  ],\n",
       "       [ 0.0488  ,  0.1506  , -0.504   , ...,  0.903   , -0.03943 ,\n",
       "         0.7397  ],\n",
       "       [ 0.06113 , -0.136   , -0.1127  , ...,  0.674   , -0.3716  ,\n",
       "         0.1797  ],\n",
       "       ...,\n",
       "       [ 0.2264  ,  0.02518 , -0.0648  , ...,  0.4417  , -0.05435 ,\n",
       "         0.7573  ],\n",
       "       [ 0.3882  , -0.004864, -0.1466  , ...,  0.4768  , -0.6074  ,\n",
       "        -0.4258  ],\n",
       "       [-0.1436  ,  0.3198  , -0.04782 , ...,  0.1285  , -0.08545 ,\n",
       "        -0.1901  ]], dtype=float16)"
      ]
     },
     "execution_count": 20,
     "metadata": {},
     "output_type": "execute_result"
    }
   ],
   "source": [
    "x = dp[\"clip(image)\"].data\n",
    "x"
   ]
  },
  {
   "cell_type": "code",
   "execution_count": 12,
   "id": "4867a7a4",
   "metadata": {},
   "outputs": [],
   "source": [
    "import meerkat as mk"
   ]
  },
  {
   "cell_type": "code",
   "execution_count": 22,
   "id": "00d29b2b",
   "metadata": {},
   "outputs": [],
   "source": [
    "import pomegranate as pg"
   ]
  },
  {
   "cell_type": "code",
   "execution_count": 23,
   "id": "80e29dc5",
   "metadata": {},
   "outputs": [
    {
     "ename": "ValueError",
     "evalue": "must pass in a list with one distribution per dimension in multivariate data or multiple distributions for univariate data.",
     "output_type": "error",
     "traceback": [
      "\u001b[0;31m---------------------------------------------------------------------------\u001b[0m",
      "\u001b[0;31mValueError\u001b[0m                                Traceback (most recent call last)",
      "Input \u001b[0;32mIn [23]\u001b[0m, in \u001b[0;36m<cell line: 3>\u001b[0;34m()\u001b[0m\n\u001b[1;32m      1\u001b[0m d1 \u001b[38;5;241m=\u001b[39m pg\u001b[38;5;241m.\u001b[39mIndependentComponentsDistribution([pg\u001b[38;5;241m.\u001b[39mNormalDistribution(\u001b[38;5;241m5\u001b[39m, \u001b[38;5;241m2\u001b[39m), pg\u001b[38;5;241m.\u001b[39mExponentialDistribution(\u001b[38;5;241m1\u001b[39m), pg\u001b[38;5;241m.\u001b[39mLogNormalDistribution(\u001b[38;5;241m0.4\u001b[39m, \u001b[38;5;241m0.1\u001b[39m)])\n\u001b[1;32m      2\u001b[0m d2 \u001b[38;5;241m=\u001b[39m pg\u001b[38;5;241m.\u001b[39mIndependentComponentsDistribution([pg\u001b[38;5;241m.\u001b[39mNormalDistribution(\u001b[38;5;241m3\u001b[39m, \u001b[38;5;241m1\u001b[39m), pg\u001b[38;5;241m.\u001b[39mExponentialDistribution(\u001b[38;5;241m2\u001b[39m), pg\u001b[38;5;241m.\u001b[39mLogNormalDistribution(\u001b[38;5;241m0.8\u001b[39m, \u001b[38;5;241m0.2\u001b[39m)])\n\u001b[0;32m----> 3\u001b[0m model \u001b[38;5;241m=\u001b[39m \u001b[43mpg\u001b[49m\u001b[38;5;241;43m.\u001b[39;49m\u001b[43mGeneralMixtureModel\u001b[49m\u001b[38;5;241;43m.\u001b[39;49m\u001b[43mfrom_samples\u001b[49m\u001b[43m(\u001b[49m\u001b[43m[\u001b[49m\n\u001b[1;32m      4\u001b[0m \u001b[43m    \u001b[49m\u001b[43mpg\u001b[49m\u001b[38;5;241;43m.\u001b[39;49m\u001b[43mMultivariateGaussianDistribution\u001b[49m\u001b[43m]\u001b[49m\u001b[43m,\u001b[49m\u001b[43m \u001b[49m\u001b[43mn_components\u001b[49m\u001b[38;5;241;43m=\u001b[39;49m\u001b[38;5;241;43m5\u001b[39;49m\u001b[43m,\u001b[49m\u001b[43m \u001b[49m\u001b[43mX\u001b[49m\u001b[38;5;241;43m=\u001b[39;49m\u001b[43mdp\u001b[49m\u001b[43m[\u001b[49m\u001b[38;5;124;43m\"\u001b[39;49m\u001b[38;5;124;43mclip(image)\u001b[39;49m\u001b[38;5;124;43m\"\u001b[39;49m\u001b[43m]\u001b[49m\u001b[38;5;241;43m.\u001b[39;49m\u001b[43mdata\u001b[49m\u001b[43m)\u001b[49m\n",
      "File \u001b[0;32m~/miniconda3/envs/domino/lib/python3.9/site-packages/pomegranate/gmm.pyx:559\u001b[0m, in \u001b[0;36mpomegranate.gmm.GeneralMixtureModel.from_samples\u001b[0;34m()\u001b[0m\n",
      "\u001b[0;31mValueError\u001b[0m: must pass in a list with one distribution per dimension in multivariate data or multiple distributions for univariate data."
     ]
    }
   ],
   "source": [
    "dp.groupby([\"image\", \"probs\", \"target\"], )"
   ]
  },
  {
   "cell_type": "code",
   "execution_count": null,
   "id": "651d261a",
   "metadata": {},
   "outputs": [],
   "source": [
    "model = GeneralMixtureModel.from_samples(MultivariateGaussianDistribution, n_components=3, X=X)"
   ]
  }
 ],
 "metadata": {
  "kernelspec": {
   "display_name": "Python 3 (ipykernel)",
   "language": "python",
   "name": "python3"
  },
  "language_info": {
   "codemirror_mode": {
    "name": "ipython",
    "version": 3
   },
   "file_extension": ".py",
   "mimetype": "text/x-python",
   "name": "python",
   "nbconvert_exporter": "python",
   "pygments_lexer": "ipython3",
   "version": "3.9.12"
  }
 },
 "nbformat": 4,
 "nbformat_minor": 5
}
